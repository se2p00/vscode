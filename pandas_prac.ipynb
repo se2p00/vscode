{
 "cells": [
  {
   "cell_type": "code",
   "execution_count": 67,
   "metadata": {},
   "outputs": [],
   "source": [
    "# CSV 파일 전처리\n",
    "# 엑셀로 만든 CSV 파일 인코딩을 엑셀에서 UTF-8로 저장해도 UTF-8 이나 EUC-KR 로 인코딩할 때 에러 발생\n",
    "# CP949로 인코딩 성공\n",
    "\n",
    "def clean_file(fileName, save=False, replace=False):\n",
    "    import pandas as pd\n",
    "    if replace:\n",
    "        save = True\n",
    "    [fname, ftype] = str(fileName).split('.')\n",
    "    try:\n",
    "        if ftype == 'csv':\n",
    "            df = pd.read_csv(fileName)\n",
    "            print(fileName+ ' is loaded with encoding = UTF-8')\n",
    "        elif ftype == 'xlsx':\n",
    "            df = pd.read_excel(fileName)\n",
    "        df = col_check(df)\n",
    "\n",
    "        if not replace:\n",
    "            fileName = fname+'_cleaned.'+ftype\n",
    "\n",
    "        if save:\n",
    "            if ftype == 'csv':\n",
    "                df.to_csv(fileName, index=False)\n",
    "\n",
    "            elif ftype == 'xlsx':\n",
    "                df.to_excel(fileName, index=False)\n",
    "        return df\n",
    "\n",
    "    except UnicodeDecodeError:\n",
    "        df = pd.read_csv(fileName, encoding='CP949')\n",
    "        print(fileName+ ' is loaded with encoding = CP949')\n",
    "        df = col_check(df)\n",
    "        return df\n",
    "\n",
    "    except Exception as ex:\n",
    "        print('%s' % (ex))\n",
    "\n",
    "\n",
    "def col_check(df):\n",
    "    colList = list(df.columns)\n",
    "    for col in colList:\n",
    "        if \"Unnamed:\" in col:  # 이름이 없는 칼럼 삭제\n",
    "            df = df.drop(col, axis=1)\n",
    "            colList = list(df.columns)\n",
    "    newcolList = []\n",
    "    for col in colList:\n",
    "        if \"\\t\" in col:\n",
    "            new = str(col).replace('\\t', '')\n",
    "        else:\n",
    "            new = col\n",
    "        newcolList.append(new)\n",
    "    df.columns = newcolList\n",
    "    return df\n",
    "\n"
   ]
  },
  {
   "cell_type": "code",
   "execution_count": null,
   "metadata": {},
   "outputs": [],
   "source": []
  },
  {
   "cell_type": "code",
   "execution_count": 68,
   "metadata": {},
   "outputs": [
    {
     "name": "stderr",
     "output_type": "stream",
     "text": [
      "C:\\Users\\se2p0\\AppData\\Local\\Temp\\ipykernel_12796\\1210212321.py:12: DtypeWarning: Columns (13) have mixed types. Specify dtype option on import or set low_memory=False.\n",
      "  df = pd.read_csv(fileName)\n"
     ]
    }
   ],
   "source": [
    "fDir = 'C:/vscodeFiles/'\n",
    "fileName = 'result.csv'\n",
    "df = clean_file(fDir+fileName)\n",
    "df['거래처코드'] = df['거래처코드'].astype({'거래처코드':'str'})\n",
    "df['거래처코드'].str.replace('.0', '')\n",
    "df.to_csv(fDir+'2'+fileName, encoding='UTF-8')"
   ]
  },
  {
   "cell_type": "code",
   "execution_count": 52,
   "metadata": {},
   "outputs": [
    {
     "name": "stderr",
     "output_type": "stream",
     "text": [
      "C:\\Users\\se2p0\\AppData\\Local\\Temp\\ipykernel_12796\\2593312506.py:12: DtypeWarning: Columns (13) have mixed types. Specify dtype option on import or set low_memory=False.\n",
      "  df = pd.read_csv(fileName)\n"
     ]
    },
    {
     "data": {
      "text/plain": [
       "bool"
      ]
     },
     "execution_count": 52,
     "metadata": {},
     "output_type": "execute_result"
    }
   ],
   "source": [
    "df = clean_file(fDir+'2'+fileName)\n"
   ]
  },
  {
   "cell_type": "code",
   "execution_count": 63,
   "metadata": {},
   "outputs": [],
   "source": [
    "for i in range(len(df['합계'])):\n",
    "    if type(df['합계'][i]) != int:\n",
    "        df['합계'][i]"
   ]
  },
  {
   "cell_type": "code",
   "execution_count": 65,
   "metadata": {},
   "outputs": [
    {
     "data": {
      "text/plain": [
       "구분        False\n",
       "일자        False\n",
       "품목구분       True\n",
       "품목코드      False\n",
       "품목명       False\n",
       "최신 품목명    False\n",
       "규격         True\n",
       "수량        False\n",
       "단위         True\n",
       "단가        False\n",
       "공급가       False\n",
       "합계        False\n",
       "거래처코드      True\n",
       "거래처        True\n",
       "거래처그룹1     True\n",
       "거래처그룹2     True\n",
       "담당자        True\n",
       "개설연도       True\n",
       "지역구분       True\n",
       "인센가입       True\n",
       "품목그룹1      True\n",
       "품목그룹2      True\n",
       "인센품목       True\n",
       "dtype: bool"
      ]
     },
     "execution_count": 65,
     "metadata": {},
     "output_type": "execute_result"
    }
   ],
   "source": [
    "df."
   ]
  },
  {
   "cell_type": "code",
   "execution_count": null,
   "metadata": {},
   "outputs": [],
   "source": [
    "sales_all = pd.read_sql_table('sales_all', con=engine)\n",
    "sales_all\n"
   ]
  },
  {
   "cell_type": "code",
   "execution_count": null,
   "metadata": {},
   "outputs": [],
   "source": [
    "# 해당 모듈들이 설치되어 있어야 함\n",
    "# sqlalchemy, pymssql\n",
    "import pandas as pd\n",
    "from sqlalchemy import create_engine\n",
    "from sqlalchemy import select\n",
    "from sqlalchemy.ext.declarative import declarative_base\n",
    "from sqlalchemy.orm import sessionmaker\n",
    "from sqlalchemy import text\n",
    "from sqlalchemy.engine.url import URL\n",
    "from sqlalchemy.types import NVARCHAR\n",
    "\n",
    "db_url = {\n",
    "    'database': \"dbo.sales_main\",\n",
    "    'drivername': 'mssql+pymssql',\n",
    "    'username': 'se2p00',\n",
    "    'password': 'rmeo9821',\n",
    "    'host': 'fz_sa_dgkim',\n",
    "    'port': '1433',\n",
    "    'query': {'charset': 'UTF-8'},  # the key-point setting\n",
    "}\n",
    "\n",
    "engine = create_engine(URL(**db_url), echo=True)\n",
    "\n",
    "# engine = create_engine('mssql+pymssql://se2p00:rmeo9821@FZ_SA_DGKIM/dbo.sales_main', echo=True)\n",
    "# session 생성\n",
    "sales_all = pd.read_sql_table('sales_all', con=engine)\n",
    "sales_all"
   ]
  },
  {
   "cell_type": "code",
   "execution_count": null,
   "metadata": {},
   "outputs": [],
   "source": [
    "# Table 생성 테스트\n",
    "\n",
    "from sqlalchemy.types import NVARCHAR, DATE, Integer\n",
    "dataTypeList = [NVARCHAR]*(len(df.columns)-1)\n",
    "columnList = list(df.columns)\n",
    "dTypeDict = dict(zip(columnList, dataTypeList))\n",
    "dTypeDict['일자'] = DATE\n",
    "dTypeDict['단가'] = Integer\n",
    "dTypeDict['공급가'] = Integer\n",
    "dTypeDict['합계'] = Integer\n",
    "dTypeDict['수량'] = Integer\n",
    "\n",
    "df = sales_all\n",
    "conn = engine.connect()\n",
    "df.to_sql(name='sales_sample', con=engine,\n",
    "          if_exists='replace', index=False, dtype=dTypeDict)\n",
    "conn.close()\n",
    "sales_sample = pd.read_sql_table('sales_sample', con=engine)\n"
   ]
  },
  {
   "cell_type": "code",
   "execution_count": null,
   "metadata": {},
   "outputs": [],
   "source": [
    "# 조건에 해당하는 데이터 뽑기\n",
    "newdf = sales_sample[sales_sample['단가'] > 1000000]\n",
    "newdf.to_excel('sample.xlsx')\n"
   ]
  },
  {
   "cell_type": "code",
   "execution_count": null,
   "metadata": {},
   "outputs": [],
   "source": []
  },
  {
   "cell_type": "code",
   "execution_count": null,
   "metadata": {},
   "outputs": [],
   "source": [
    "import pymssql\n",
    "\n",
    "# DB 서버 주소\n",
    "server = 'FZ_SA_DGKIM'\n",
    "# 데이터 베이스 이름\n",
    "database = 'dbo.sales_main'\n",
    "# 접속 유저명\n",
    "username = 'se2p00'\n",
    "# 접속 유저 패스워드\n",
    "password = 'rmeo9821'\n",
    "\n",
    "\n",
    "# MSSQL 접속\n",
    "cnxn = pymssql.connect(server, username, password, database)\n",
    "cursor = cnxn.cursor()\n",
    "\n",
    "# SQL문 실행\n",
    "cursor.execute('SELECT * FROM dbo.sales_all;')\n"
   ]
  }
 ],
 "metadata": {
  "kernelspec": {
   "display_name": "Python 3",
   "language": "python",
   "name": "python3"
  },
  "language_info": {
   "codemirror_mode": {
    "name": "ipython",
    "version": 3
   },
   "file_extension": ".py",
   "mimetype": "text/x-python",
   "name": "python",
   "nbconvert_exporter": "python",
   "pygments_lexer": "ipython3",
   "version": "3.11.3"
  },
  "orig_nbformat": 4
 },
 "nbformat": 4,
 "nbformat_minor": 2
}
